{
  "nbformat": 4,
  "nbformat_minor": 0,
  "metadata": {
    "colab": {
      "name": "Copy of sung_lec02_multilinear_regression(2)2020.06.11오후수업3.ipynb",
      "provenance": [],
      "collapsed_sections": [],
      "include_colab_link": true
    },
    "kernelspec": {
      "name": "python3",
      "display_name": "Python 3"
    }
  },
  "cells": [
    {
      "cell_type": "markdown",
      "metadata": {
        "id": "view-in-github",
        "colab_type": "text"
      },
      "source": [
        "<a href=\"https://colab.research.google.com/github/sturu1/git-first/blob/master/Copy_of_sung_lec02_multilinear_regression(2)2020_06_11%EC%98%A4%ED%9B%84%EC%88%98%EC%97%853.ipynb\" target=\"_parent\"><img src=\"https://colab.research.google.com/assets/colab-badge.svg\" alt=\"Open In Colab\"/></a>"
      ]
    },
    {
      "cell_type": "markdown",
      "metadata": {
        "id": "veT1JptHpiTk",
        "colab_type": "text"
      },
      "source": [
        "##파일을 불러서 Multiple Linear Regression 수행하기\n",
        "\n",
        "> 본 예제에서는 아래 주소에 있는 csv파일을 불러들여서 multiple linear regression을 수행해 보겠습니다.  자료출처: https://github.com/hunkim/DeepLearningZeroToAll/tree/master/keras \n",
        "\n",
        "> 참고로, colab에서 여러분 컴퓨터에 있는 파일을 열기 위해서는 다음과 같이 할 수 있습니다. \n",
        "```\n",
        "from google.colab import files\n",
        "file = files.upload()\n",
        "```\n",
        "\n",
        "> 먼저 아래 주소에 있는 data-01-test-score.csv 파일을 여러분의 작업환경으로 가져 오겠습니다. "
      ]
    },
    {
      "cell_type": "code",
      "metadata": {
        "id": "Hv_-X1alkM6i",
        "colab_type": "code",
        "colab": {
          "base_uri": "https://localhost:8080/",
          "height": 592
        },
        "outputId": "1e341d13-199e-478c-a52c-6529920dadf5"
      },
      "source": [
        "!wget from https://raw.githubusercontent.com/hunkim/DeepLearningZeroToAll/master/keras/data-01-test-score.csv import files\n",
        "file = files.upload()"
      ],
      "execution_count": 1,
      "outputs": [
        {
          "output_type": "stream",
          "text": [
            "--2020-06-11 06:59:50--  http://from/\n",
            "Resolving from (from)... failed: Name or service not known.\n",
            "wget: unable to resolve host address ‘from’\n",
            "--2020-06-11 06:59:50--  https://raw.githubusercontent.com/hunkim/DeepLearningZeroToAll/master/keras/data-01-test-score.csv\n",
            "Resolving raw.githubusercontent.com (raw.githubusercontent.com)... 151.101.0.133, 151.101.64.133, 151.101.128.133, ...\n",
            "Connecting to raw.githubusercontent.com (raw.githubusercontent.com)|151.101.0.133|:443... connected.\n",
            "HTTP request sent, awaiting response... 200 OK\n",
            "Length: 653 [text/plain]\n",
            "Saving to: ‘data-01-test-score.csv’\n",
            "\n",
            "\rdata-01-test-score.   0%[                    ]       0  --.-KB/s               \rdata-01-test-score. 100%[===================>]     653  --.-KB/s    in 0s      \n",
            "\n",
            "2020-06-11 06:59:51 (23.1 MB/s) - ‘data-01-test-score.csv’ saved [653/653]\n",
            "\n",
            "--2020-06-11 06:59:51--  http://import/\n",
            "Resolving import (import)... failed: Name or service not known.\n",
            "wget: unable to resolve host address ‘import’\n",
            "--2020-06-11 06:59:51--  http://files/\n",
            "Resolving files (files)... failed: Name or service not known.\n",
            "wget: unable to resolve host address ‘files’\n",
            "FINISHED --2020-06-11 06:59:51--\n",
            "Total wall clock time: 0.4s\n",
            "Downloaded: 1 files, 653 in 0s (23.1 MB/s)\n"
          ],
          "name": "stdout"
        },
        {
          "output_type": "error",
          "ename": "NameError",
          "evalue": "ignored",
          "traceback": [
            "\u001b[0;31m---------------------------------------------------------------------------\u001b[0m",
            "\u001b[0;31mNameError\u001b[0m                                 Traceback (most recent call last)",
            "\u001b[0;32m<ipython-input-1-174161a709f4>\u001b[0m in \u001b[0;36m<module>\u001b[0;34m()\u001b[0m\n\u001b[1;32m      1\u001b[0m \u001b[0mget_ipython\u001b[0m\u001b[0;34m(\u001b[0m\u001b[0;34m)\u001b[0m\u001b[0;34m.\u001b[0m\u001b[0msystem\u001b[0m\u001b[0;34m(\u001b[0m\u001b[0;34m'wget from https://raw.githubusercontent.com/hunkim/DeepLearningZeroToAll/master/keras/data-01-test-score.csv import files'\u001b[0m\u001b[0;34m)\u001b[0m\u001b[0;34m\u001b[0m\u001b[0;34m\u001b[0m\u001b[0m\n\u001b[0;32m----> 2\u001b[0;31m \u001b[0mfile\u001b[0m \u001b[0;34m=\u001b[0m \u001b[0mfiles\u001b[0m\u001b[0;34m.\u001b[0m\u001b[0mupload\u001b[0m\u001b[0;34m(\u001b[0m\u001b[0;34m)\u001b[0m\u001b[0;34m\u001b[0m\u001b[0;34m\u001b[0m\u001b[0m\n\u001b[0m",
            "\u001b[0;31mNameError\u001b[0m: name 'files' is not defined"
          ]
        }
      ]
    },
    {
      "cell_type": "markdown",
      "metadata": {
        "id": "H0G7RuBRmSb0",
        "colab_type": "text"
      },
      "source": [
        "> 현재 여러분의 디렉토리에 어떤 파일이 있는지 확인해 봅니다. "
      ]
    },
    {
      "cell_type": "code",
      "metadata": {
        "id": "qPUDX_AdPK7_",
        "colab_type": "code",
        "colab": {
          "base_uri": "https://localhost:8080/",
          "height": 34
        },
        "outputId": "3d3adaa0-5153-4644-dd60-cfc2cbad8a67"
      },
      "source": [
        "!ls"
      ],
      "execution_count": 2,
      "outputs": [
        {
          "output_type": "stream",
          "text": [
            "data-01-test-score.csv\tsample_data\n"
          ],
          "name": "stdout"
        }
      ]
    },
    {
      "cell_type": "markdown",
      "metadata": {
        "id": "ntGwwwdNwL_m",
        "colab_type": "text"
      },
      "source": [
        "> 이제 여러분들의 디렉토리에 있는 파일을 파이썬 작업환경에 불러오기 위하여 numpy 모듈에 있는 `loadtxt()`라는 함수를 사용하겠습니다. data-01-test-score.csv 파일을 불러와 xy라는 변수에 저장합니다. \n",
        "\n",
        ">`loadtxt()` 함수 내에 `delimiter=','`는 자료의 구분자로 ,를 사용한다는 의미입니다. 즉 대부분의 .csv 파을을 불러들일때 사용합니다. "
      ]
    },
    {
      "cell_type": "code",
      "metadata": {
        "id": "joKLuLyKk2Kr",
        "colab_type": "code",
        "colab": {}
      },
      "source": [
        "import numpy as np"
      ],
      "execution_count": 0,
      "outputs": []
    },
    {
      "cell_type": "code",
      "metadata": {
        "id": "vH6bUBiOMR-4",
        "colab_type": "code",
        "colab": {}
      },
      "source": [
        "xy = np.loadtxt(\"data-01-test-score.csv\", delimiter=',', dtype=np.float32)"
      ],
      "execution_count": 0,
      "outputs": []
    },
    {
      "cell_type": "markdown",
      "metadata": {
        "id": "hukRUhvempzk",
        "colab_type": "text"
      },
      "source": [
        "> `xy` 변수의 모양을 확인합니다. 25개의 학생(개체, 샘플)과 4개의 속성(출석, 중간, 기말, 최종성적)으로 이루어진 자료입니다. "
      ]
    },
    {
      "cell_type": "code",
      "metadata": {
        "id": "3i05FboEPnAj",
        "colab_type": "code",
        "colab": {
          "base_uri": "https://localhost:8080/",
          "height": 34
        },
        "outputId": "57647618-ae65-4eb2-8a24-27635115f982"
      },
      "source": [
        "xy.shape"
      ],
      "execution_count": 11,
      "outputs": [
        {
          "output_type": "execute_result",
          "data": {
            "text/plain": [
              "(25, 4)"
            ]
          },
          "metadata": {
            "tags": []
          },
          "execution_count": 11
        }
      ]
    },
    {
      "cell_type": "markdown",
      "metadata": {
        "id": "E9d4fV9lC2a-",
        "colab_type": "text"
      },
      "source": [
        "> 다음으로 `xy`에 저장된 데이터를 입력변수와 출력변수로 분활합니다. \n",
        "단, 이때 xy 원본데이터와 마찬가지로 축을 2개로 유지해야 합니다. 그래서 출력데이터를 `xy[:,-1]`이 아닌 `xy[:,[-1]]`로 표현하였습니다. 위의 두 코드를 각각 실행해서 그 차이를 확인해 보시기 바랍니다. \n",
        "\n",
        "> 참고로 keras에서는 `xy[:,-1]` 해도 오류없이 학습이 진행됩니다. 그러나 명확한 이해를 위해서 `xy[:,[-1]]`로 표현하길 권고합니다. "
      ]
    },
    {
      "cell_type": "code",
      "metadata": {
        "id": "eZHLybzjlaTL",
        "colab_type": "code",
        "colab": {}
      },
      "source": [
        "x_data = xy[:, :-1] #마지막 한열만 빼고"
      ],
      "execution_count": 0,
      "outputs": []
    },
    {
      "cell_type": "code",
      "metadata": {
        "id": "ksijF9JSmaUz",
        "colab_type": "code",
        "colab": {}
      },
      "source": [
        "y_data = xy[:, [-1]] #마지막 한 열만 넣기"
      ],
      "execution_count": 0,
      "outputs": []
    },
    {
      "cell_type": "code",
      "metadata": {
        "id": "PuvZEKLgNhpZ",
        "colab_type": "code",
        "colab": {
          "base_uri": "https://localhost:8080/",
          "height": 442
        },
        "outputId": "daac5a58-7292-4c2a-f6ba-e7bfe6067e7b"
      },
      "source": [
        "y_data"
      ],
      "execution_count": 18,
      "outputs": [
        {
          "output_type": "execute_result",
          "data": {
            "text/plain": [
              "array([[152.],\n",
              "       [185.],\n",
              "       [180.],\n",
              "       [196.],\n",
              "       [142.],\n",
              "       [101.],\n",
              "       [149.],\n",
              "       [115.],\n",
              "       [175.],\n",
              "       [164.],\n",
              "       [141.],\n",
              "       [141.],\n",
              "       [184.],\n",
              "       [152.],\n",
              "       [148.],\n",
              "       [192.],\n",
              "       [147.],\n",
              "       [183.],\n",
              "       [177.],\n",
              "       [159.],\n",
              "       [177.],\n",
              "       [175.],\n",
              "       [175.],\n",
              "       [149.],\n",
              "       [192.]], dtype=float32)"
            ]
          },
          "metadata": {
            "tags": []
          },
          "execution_count": 18
        }
      ]
    },
    {
      "cell_type": "markdown",
      "metadata": {
        "id": "sxk2tWgLynwb",
        "colab_type": "text"
      },
      "source": [
        "> 다음으로 필요한 keras 모듀을 불러옵니다."
      ]
    },
    {
      "cell_type": "code",
      "metadata": {
        "id": "siDta63gmvuL",
        "colab_type": "code",
        "colab": {}
      },
      "source": [
        "from keras.models import Sequential\n",
        "from keras.layers import Dense\n",
        "from keras.optimizers import RMSprop"
      ],
      "execution_count": 0,
      "outputs": []
    },
    {
      "cell_type": "markdown",
      "metadata": {
        "id": "XWWDexr9TiZZ",
        "colab_type": "text"
      },
      "source": [
        "> 다음은, keras에 내표된 Sequential() 클래스를 사용하여 model instance를 생성합니다."
      ]
    },
    {
      "cell_type": "code",
      "metadata": {
        "id": "x-HHbhEsnDW7",
        "colab_type": "code",
        "colab": {}
      },
      "source": [
        "model = Sequential()"
      ],
      "execution_count": 0,
      "outputs": []
    },
    {
      "cell_type": "markdown",
      "metadata": {
        "id": "oEkY_lClDPx2",
        "colab_type": "text"
      },
      "source": [
        ">  다음으로 model instance에 네트워크 구조를 만듭니다. 이 예제에서는 1개층, 1개의 unit으로 구성된 매우 단순한 신경망을 구성합니다. \n",
        "단, 이때, 입력데이터의 한 개체의 모양을 input_shape로 정의하는 것이 필요합니다. 입력데이터는 25개의 개체로 이루어져 있지만, 한 개체는 3개의 속성을 가지고 있으므로 inpu_shape는 1D 벡터인 (3,)로 지정합니다. "
      ]
    },
    {
      "cell_type": "code",
      "metadata": {
        "id": "pRhnW7d5nLoC",
        "colab_type": "code",
        "colab": {}
      },
      "source": [
        "model.add(Dense(units=1, input_shape=(3,)))"
      ],
      "execution_count": 0,
      "outputs": []
    },
    {
      "cell_type": "markdown",
      "metadata": {
        "id": "fvgG1hViDo1K",
        "colab_type": "text"
      },
      "source": [
        "> **optimizer**(gradient descent) 알고리즘과 learning rate, **손실함수**를 정의하고 모델을 compile 합니다. "
      ]
    },
    {
      "cell_type": "code",
      "metadata": {
        "id": "ARAPn5aSnjKj",
        "colab_type": "code",
        "colab": {}
      },
      "source": [
        "model.compile(optimizer=RMSprop(lr=0.1), loss='mse')"
      ],
      "execution_count": 0,
      "outputs": []
    },
    {
      "cell_type": "markdown",
      "metadata": {
        "id": "8rhZ--F-EFun",
        "colab_type": "text"
      },
      "source": [
        "\n",
        "> 모델을 100번에 걸쳐서 학습합니다. (epochs = 100)"
      ]
    },
    {
      "cell_type": "code",
      "metadata": {
        "id": "5_E1KIYjn17C",
        "colab_type": "code",
        "colab": {
          "base_uri": "https://localhost:8080/",
          "height": 1000
        },
        "outputId": "0d4683d0-0d64-4d38-b046-ad27e9494f84"
      },
      "source": [
        "history = model.fit(x_data, y_data, epochs=100)"
      ],
      "execution_count": 31,
      "outputs": [
        {
          "output_type": "stream",
          "text": [
            "Epoch 1/100\n",
            "25/25 [==============================] - 0s 8ms/step - loss: 2488.3899\n",
            "Epoch 2/100\n",
            "25/25 [==============================] - 0s 106us/step - loss: 822.9441\n",
            "Epoch 3/100\n",
            "25/25 [==============================] - 0s 191us/step - loss: 189.7499\n",
            "Epoch 4/100\n",
            "25/25 [==============================] - 0s 50us/step - loss: 84.5830\n",
            "Epoch 5/100\n",
            "25/25 [==============================] - 0s 97us/step - loss: 64.4251\n",
            "Epoch 6/100\n",
            "25/25 [==============================] - 0s 94us/step - loss: 59.4089\n",
            "Epoch 7/100\n",
            "25/25 [==============================] - 0s 98us/step - loss: 57.7755\n",
            "Epoch 8/100\n",
            "25/25 [==============================] - 0s 105us/step - loss: 57.0863\n",
            "Epoch 9/100\n",
            "25/25 [==============================] - 0s 98us/step - loss: 56.7261\n",
            "Epoch 10/100\n",
            "25/25 [==============================] - 0s 129us/step - loss: 56.5227\n",
            "Epoch 11/100\n",
            "25/25 [==============================] - 0s 34us/step - loss: 56.4494\n",
            "Epoch 12/100\n",
            "25/25 [==============================] - 0s 36us/step - loss: 56.5784\n",
            "Epoch 13/100\n",
            "25/25 [==============================] - 0s 97us/step - loss: 57.1580\n",
            "Epoch 14/100\n",
            "25/25 [==============================] - 0s 79us/step - loss: 58.9368\n",
            "Epoch 15/100\n",
            "25/25 [==============================] - 0s 70us/step - loss: 64.3181\n",
            "Epoch 16/100\n",
            "25/25 [==============================] - 0s 59us/step - loss: 81.6544\n",
            "Epoch 17/100\n",
            "25/25 [==============================] - 0s 74us/step - loss: 140.5392\n",
            "Epoch 18/100\n",
            "25/25 [==============================] - 0s 67us/step - loss: 323.3497\n",
            "Epoch 19/100\n",
            "25/25 [==============================] - 0s 59us/step - loss: 641.5537\n",
            "Epoch 20/100\n",
            "25/25 [==============================] - 0s 35us/step - loss: 661.6362\n",
            "Epoch 21/100\n",
            "25/25 [==============================] - 0s 34us/step - loss: 402.3975\n",
            "Epoch 22/100\n",
            "25/25 [==============================] - 0s 56us/step - loss: 219.4565\n",
            "Epoch 23/100\n",
            "25/25 [==============================] - 0s 66us/step - loss: 136.3396\n",
            "Epoch 24/100\n",
            "25/25 [==============================] - 0s 63us/step - loss: 101.1585\n",
            "Epoch 25/100\n",
            "25/25 [==============================] - 0s 41us/step - loss: 86.0967\n",
            "Epoch 26/100\n",
            "25/25 [==============================] - 0s 42us/step - loss: 80.2161\n",
            "Epoch 27/100\n",
            "25/25 [==============================] - 0s 44us/step - loss: 79.7140\n",
            "Epoch 28/100\n",
            "25/25 [==============================] - 0s 80us/step - loss: 84.0674\n",
            "Epoch 29/100\n",
            "25/25 [==============================] - 0s 60us/step - loss: 95.1823\n",
            "Epoch 30/100\n",
            "25/25 [==============================] - 0s 55us/step - loss: 118.1059\n",
            "Epoch 31/100\n",
            "25/25 [==============================] - 0s 48us/step - loss: 162.0667\n",
            "Epoch 32/100\n",
            "25/25 [==============================] - 0s 48us/step - loss: 236.4363\n",
            "Epoch 33/100\n",
            "25/25 [==============================] - 0s 48us/step - loss: 328.7120\n",
            "Epoch 34/100\n",
            "25/25 [==============================] - 0s 56us/step - loss: 381.8187\n",
            "Epoch 35/100\n",
            "25/25 [==============================] - 0s 48us/step - loss: 353.2177\n",
            "Epoch 36/100\n",
            "25/25 [==============================] - 0s 51us/step - loss: 279.3600\n",
            "Epoch 37/100\n",
            "25/25 [==============================] - 0s 44us/step - loss: 211.2758\n",
            "Epoch 38/100\n",
            "25/25 [==============================] - 0s 46us/step - loss: 165.6076\n",
            "Epoch 39/100\n",
            "25/25 [==============================] - 0s 41us/step - loss: 139.2615\n",
            "Epoch 40/100\n",
            "25/25 [==============================] - 0s 44us/step - loss: 126.2508\n",
            "Epoch 41/100\n",
            "25/25 [==============================] - 0s 41us/step - loss: 122.7023\n",
            "Epoch 42/100\n",
            "25/25 [==============================] - 0s 42us/step - loss: 127.1142\n",
            "Epoch 43/100\n",
            "25/25 [==============================] - 0s 43us/step - loss: 139.7511\n",
            "Epoch 44/100\n",
            "25/25 [==============================] - 0s 35us/step - loss: 161.7940\n",
            "Epoch 45/100\n",
            "25/25 [==============================] - 0s 42us/step - loss: 193.5172\n",
            "Epoch 46/100\n",
            "25/25 [==============================] - 0s 58us/step - loss: 230.8001\n",
            "Epoch 47/100\n",
            "25/25 [==============================] - 0s 38us/step - loss: 262.3119\n",
            "Epoch 48/100\n",
            "25/25 [==============================] - 0s 36us/step - loss: 274.2613\n",
            "Epoch 49/100\n",
            "25/25 [==============================] - 0s 64us/step - loss: 262.3679\n",
            "Epoch 50/100\n",
            "25/25 [==============================] - 0s 41us/step - loss: 235.4991\n",
            "Epoch 51/100\n",
            "25/25 [==============================] - 0s 42us/step - loss: 206.1327\n",
            "Epoch 52/100\n",
            "25/25 [==============================] - 0s 35us/step - loss: 182.0314\n",
            "Epoch 53/100\n",
            "25/25 [==============================] - 0s 36us/step - loss: 165.7028\n",
            "Epoch 54/100\n",
            "25/25 [==============================] - 0s 37us/step - loss: 157.0322\n",
            "Epoch 55/100\n",
            "25/25 [==============================] - 0s 72us/step - loss: 155.2575\n",
            "Epoch 56/100\n",
            "25/25 [==============================] - 0s 55us/step - loss: 159.7335\n",
            "Epoch 57/100\n",
            "25/25 [==============================] - 0s 53us/step - loss: 169.8947\n",
            "Epoch 58/100\n",
            "25/25 [==============================] - 0s 44us/step - loss: 184.7360\n",
            "Epoch 59/100\n",
            "25/25 [==============================] - 0s 40us/step - loss: 202.0564\n",
            "Epoch 60/100\n",
            "25/25 [==============================] - 0s 71us/step - loss: 218.0712\n",
            "Epoch 61/100\n",
            "25/25 [==============================] - 0s 52us/step - loss: 228.2905\n",
            "Epoch 62/100\n",
            "25/25 [==============================] - 0s 48us/step - loss: 229.7503\n",
            "Epoch 63/100\n",
            "25/25 [==============================] - 0s 43us/step - loss: 222.8144\n",
            "Epoch 64/100\n",
            "25/25 [==============================] - 0s 42us/step - loss: 210.7026\n",
            "Epoch 65/100\n",
            "25/25 [==============================] - 0s 60us/step - loss: 197.3829\n",
            "Epoch 66/100\n",
            "25/25 [==============================] - 0s 43us/step - loss: 185.8768\n",
            "Epoch 67/100\n",
            "25/25 [==============================] - 0s 44us/step - loss: 177.8218\n",
            "Epoch 68/100\n",
            "25/25 [==============================] - 0s 45us/step - loss: 173.8106\n",
            "Epoch 69/100\n",
            "25/25 [==============================] - 0s 41us/step - loss: 173.8232\n",
            "Epoch 70/100\n",
            "25/25 [==============================] - 0s 42us/step - loss: 177.4657\n",
            "Epoch 71/100\n",
            "25/25 [==============================] - 0s 50us/step - loss: 183.9848\n",
            "Epoch 72/100\n",
            "25/25 [==============================] - 0s 50us/step - loss: 192.1815\n",
            "Epoch 73/100\n",
            "25/25 [==============================] - 0s 50us/step - loss: 200.4001\n",
            "Epoch 74/100\n",
            "25/25 [==============================] - 0s 50us/step - loss: 206.7921\n",
            "Epoch 75/100\n",
            "25/25 [==============================] - 0s 45us/step - loss: 209.8715\n",
            "Epoch 76/100\n",
            "25/25 [==============================] - 0s 60us/step - loss: 209.0956\n",
            "Epoch 77/100\n",
            "25/25 [==============================] - 0s 44us/step - loss: 205.0420\n",
            "Epoch 78/100\n",
            "25/25 [==============================] - 0s 41us/step - loss: 199.0742\n",
            "Epoch 79/100\n",
            "25/25 [==============================] - 0s 42us/step - loss: 192.7496\n",
            "Epoch 80/100\n",
            "25/25 [==============================] - 0s 44us/step - loss: 187.3572\n",
            "Epoch 81/100\n",
            "25/25 [==============================] - 0s 44us/step - loss: 183.7242\n",
            "Epoch 82/100\n",
            "25/25 [==============================] - 0s 46us/step - loss: 182.2226\n",
            "Epoch 83/100\n",
            "25/25 [==============================] - 0s 54us/step - loss: 182.8451\n",
            "Epoch 84/100\n",
            "25/25 [==============================] - 0s 54us/step - loss: 185.2735\n",
            "Epoch 85/100\n",
            "25/25 [==============================] - 0s 70us/step - loss: 188.9224\n",
            "Epoch 86/100\n",
            "25/25 [==============================] - 0s 68us/step - loss: 193.0015\n",
            "Epoch 87/100\n",
            "25/25 [==============================] - 0s 55us/step - loss: 196.6332\n",
            "Epoch 88/100\n",
            "25/25 [==============================] - 0s 53us/step - loss: 199.0438\n",
            "Epoch 89/100\n",
            "25/25 [==============================] - 0s 45us/step - loss: 199.7678\n",
            "Epoch 90/100\n",
            "25/25 [==============================] - 0s 43us/step - loss: 198.7748\n",
            "Epoch 91/100\n",
            "25/25 [==============================] - 0s 45us/step - loss: 196.4436\n",
            "Epoch 92/100\n",
            "25/25 [==============================] - 0s 69us/step - loss: 193.4081\n",
            "Epoch 93/100\n",
            "25/25 [==============================] - 0s 45us/step - loss: 190.3547\n",
            "Epoch 94/100\n",
            "25/25 [==============================] - 0s 44us/step - loss: 187.8627\n",
            "Epoch 95/100\n",
            "25/25 [==============================] - 0s 46us/step - loss: 186.3116\n",
            "Epoch 96/100\n",
            "25/25 [==============================] - 0s 45us/step - loss: 185.8611\n",
            "Epoch 97/100\n",
            "25/25 [==============================] - 0s 45us/step - loss: 186.4581\n",
            "Epoch 98/100\n",
            "25/25 [==============================] - 0s 44us/step - loss: 187.8726\n",
            "Epoch 99/100\n",
            "25/25 [==============================] - 0s 48us/step - loss: 189.7416\n",
            "Epoch 100/100\n",
            "25/25 [==============================] - 0s 41us/step - loss: 191.6370\n"
          ],
          "name": "stdout"
        }
      ]
    },
    {
      "cell_type": "code",
      "metadata": {
        "id": "MbTfkD5IRVPH",
        "colab_type": "code",
        "colab": {}
      },
      "source": [
        "import matplotlib.pyplot as plt"
      ],
      "execution_count": 0,
      "outputs": []
    },
    {
      "cell_type": "markdown",
      "metadata": {
        "id": "c5RtM9hqLZBd",
        "colab_type": "text"
      },
      "source": [
        "> 100번의 학습(epoch) 동안 손실함수 값의 변화를 그려보겠습니다. "
      ]
    },
    {
      "cell_type": "code",
      "metadata": {
        "id": "I6yrMUlhLYfo",
        "colab_type": "code",
        "colab": {
          "base_uri": "https://localhost:8080/",
          "height": 265
        },
        "outputId": "46a671b8-5c6f-4f7a-a927-5ed8c5dea0ab"
      },
      "source": [
        "plt.plot(history.history[\"loss\"])\n",
        "plt.title\n",
        "plt.show()"
      ],
      "execution_count": 34,
      "outputs": [
        {
          "output_type": "display_data",
          "data": {
            "image/png": "[encoded data removed]",
            "text/plain": [
              "<Figure size 432x288 with 1 Axes>"
            ]
          },
          "metadata": {
            "tags": [],
            "needs_background": "light"
          }
        }
      ]
    },
    {
      "cell_type": "markdown",
      "metadata": {
        "id": "Xp9J5gapEMa1",
        "colab_type": "text"
      },
      "source": [
        "> 모델의 학습이 끝났이느 새로운 데이터에 대한 예측을 수행해 봅니다. \n",
        "\n"
      ]
    },
    {
      "cell_type": "code",
      "metadata": {
        "id": "c6BOtEI1n9jr",
        "colab_type": "code",
        "colab": {}
      },
      "source": [
        ""
      ],
      "execution_count": 0,
      "outputs": []
    },
    {
      "cell_type": "code",
      "metadata": {
        "id": "ktdprfrEoO5r",
        "colab_type": "code",
        "colab": {}
      },
      "source": [
        ""
      ],
      "execution_count": 0,
      "outputs": []
    }
  ]
}