{
  "nbformat": 4,
  "nbformat_minor": 0,
  "metadata": {
    "colab": {
      "name": "Copy of sung_lec02_multilinear_regression(2)2020.06.11오후수업3.ipynb",
      "provenance": [],
      "collapsed_sections": [],
      "include_colab_link": true
    },
    "kernelspec": {
      "name": "python3",
      "display_name": "Python 3"
    }
  },
  "cells": [
    {
      "cell_type": "markdown",
      "metadata": {
        "id": "view-in-github",
        "colab_type": "text"
      },
      "source": [
        "<a href=\"https://colab.research.google.com/github/sturu1/git-first/blob/master/Copy_of_sung_lec02_multilinear_regression(2)2020_06_11%EC%98%A4%ED%9B%84%EC%88%98%EC%97%853.ipynb\" target=\"_parent\"><img src=\"https://colab.research.google.com/assets/colab-badge.svg\" alt=\"Open In Colab\"/></a>"
      ]
    },
    {
      "cell_type": "markdown",
      "metadata": {
        "id": "veT1JptHpiTk",
        "colab_type": "text"
      },
      "source": [
        "##파일을 불러서 Multiple Linear Regression 수행하기\n",
        "\n",
        "> 본 예제에서는 아래 주소에 있는 csv파일을 불러들여서 multiple linear regression을 수행해 보겠습니다.  자료출처: https://github.com/hunkim/DeepLearningZeroToAll/tree/master/keras \n",
        "\n",
        "> 참고로, colab에서 여러분 컴퓨터에 있는 파일을 열기 위해서는 다음과 같이 할 수 있습니다. \n",
        "```\n",
        "from google.colab import files\n",
        "file = files.upload()\n",
        "```\n",
        "\n",
        "> 먼저 아래 주소에 있는 data-01-test-score.csv 파일을 여러분의 작업환경으로 가져 오겠습니다. "
      ]
    },
    {
      "cell_type": "code",
      "metadata": {
        "id": "Hv_-X1alkM6i",
        "colab_type": "code",
        "colab": {}
      },
      "source": [
        ""
      ],
      "execution_count": 0,
      "outputs": []
    },
    {
      "cell_type": "markdown",
      "metadata": {
        "id": "H0G7RuBRmSb0",
        "colab_type": "text"
      },
      "source": [
        "> 현재 여러분의 디렉토리에 어떤 파일이 있는지 확인해 봅니다. "
      ]
    },
    {
      "cell_type": "code",
      "metadata": {
        "id": "qPUDX_AdPK7_",
        "colab_type": "code",
        "colab": {}
      },
      "source": [
        ""
      ],
      "execution_count": 0,
      "outputs": []
    },
    {
      "cell_type": "markdown",
      "metadata": {
        "id": "ntGwwwdNwL_m",
        "colab_type": "text"
      },
      "source": [
        "> 이제 여러분들의 디렉토리에 있는 파일을 파이썬 작업환경에 불러오기 위하여 numpy 모듈에 있는 `loadtxt()`라는 함수를 사용하겠습니다. data-01-test-score.csv 파일을 불러와 xy라는 변수에 저장합니다. \n",
        "\n",
        ">`loadtxt()` 함수 내에 `delimiter=','`는 자료의 구분자로 ,를 사용한다는 의미입니다. 즉 대부분의 .csv 파을을 불러들일때 사용합니다. "
      ]
    },
    {
      "cell_type": "code",
      "metadata": {
        "id": "joKLuLyKk2Kr",
        "colab_type": "code",
        "colab": {}
      },
      "source": [
        ""
      ],
      "execution_count": 0,
      "outputs": []
    },
    {
      "cell_type": "markdown",
      "metadata": {
        "id": "hukRUhvempzk",
        "colab_type": "text"
      },
      "source": [
        "> `xy` 변수의 모양을 확인합니다. 25개의 학생(개체, 샘플)과 4개의 속성(출석, 중간, 기말, 최종성적)으로 이루어진 자료입니다. "
      ]
    },
    {
      "cell_type": "code",
      "metadata": {
        "id": "3i05FboEPnAj",
        "colab_type": "code",
        "colab": {}
      },
      "source": [
        ""
      ],
      "execution_count": 0,
      "outputs": []
    },
    {
      "cell_type": "markdown",
      "metadata": {
        "id": "E9d4fV9lC2a-",
        "colab_type": "text"
      },
      "source": [
        "> 다음으로 `xy`에 저장된 데이터를 입력변수와 출력변수로 분활합니다. \n",
        "단, 이때 xy 원본데이터와 마찬가지로 축을 2개로 유지해야 합니다. 그래서 출력데이터를 `xy[:,-1]`이 아닌 `xy[:,[-1]]`로 표현하였습니다. 위의 두 코드를 각각 실행해서 그 차이를 확인해 보시기 바랍니다. \n",
        "\n",
        "> 참고로 keras에서는 `xy[:,-1]` 해도 오류없이 학습이 진행됩니다. 그러나 명확한 이해를 위해서 `xy[:,[-1]]`로 표현하길 권고합니다. "
      ]
    },
    {
      "cell_type": "code",
      "metadata": {
        "id": "eZHLybzjlaTL",
        "colab_type": "code",
        "colab": {}
      },
      "source": [
        ""
      ],
      "execution_count": 0,
      "outputs": []
    },
    {
      "cell_type": "code",
      "metadata": {
        "id": "ksijF9JSmaUz",
        "colab_type": "code",
        "colab": {}
      },
      "source": [
        ""
      ],
      "execution_count": 0,
      "outputs": []
    },
    {
      "cell_type": "markdown",
      "metadata": {
        "id": "sxk2tWgLynwb",
        "colab_type": "text"
      },
      "source": [
        "> 다음으로 필요한 keras 모듀을 불러옵니다."
      ]
    },
    {
      "cell_type": "code",
      "metadata": {
        "id": "siDta63gmvuL",
        "colab_type": "code",
        "colab": {}
      },
      "source": [
        ""
      ],
      "execution_count": 0,
      "outputs": []
    },
    {
      "cell_type": "markdown",
      "metadata": {
        "id": "XWWDexr9TiZZ",
        "colab_type": "text"
      },
      "source": [
        "> 다음은, keras에 내표된 Sequential() 클래스를 사용하여 model instance를 생성합니다."
      ]
    },
    {
      "cell_type": "code",
      "metadata": {
        "id": "x-HHbhEsnDW7",
        "colab_type": "code",
        "colab": {}
      },
      "source": [
        ""
      ],
      "execution_count": 0,
      "outputs": []
    },
    {
      "cell_type": "markdown",
      "metadata": {
        "id": "oEkY_lClDPx2",
        "colab_type": "text"
      },
      "source": [
        ">  다음으로 model instance에 네트워크 구조를 만듭니다. 이 예제에서는 1개층, 1개의 unit으로 구성된 매우 단순한 신경망을 구성합니다. \n",
        "단, 이때, 입력데이터의 한 개체의 모양을 input_shape로 정의하는 것이 필요합니다. 입력데이터는 25개의 개체로 이루어져 있지만, 한 개체는 3개의 속성을 가지고 있으므로 inpu_shape는 1D 벡터인 (3,)로 지정합니다. "
      ]
    },
    {
      "cell_type": "code",
      "metadata": {
        "id": "pRhnW7d5nLoC",
        "colab_type": "code",
        "colab": {}
      },
      "source": [
        ""
      ],
      "execution_count": 0,
      "outputs": []
    },
    {
      "cell_type": "markdown",
      "metadata": {
        "id": "fvgG1hViDo1K",
        "colab_type": "text"
      },
      "source": [
        "> **optimizer**(gradient descent) 알고리즘과 learning rate, **손실함수**를 정의하고 모델을 compile 합니다. "
      ]
    },
    {
      "cell_type": "code",
      "metadata": {
        "id": "ARAPn5aSnjKj",
        "colab_type": "code",
        "colab": {}
      },
      "source": [
        ""
      ],
      "execution_count": 0,
      "outputs": []
    },
    {
      "cell_type": "markdown",
      "metadata": {
        "id": "8rhZ--F-EFun",
        "colab_type": "text"
      },
      "source": [
        "\n",
        "> 모델을 100번에 걸쳐서 학습합니다. (epochs = 100)"
      ]
    },
    {
      "cell_type": "code",
      "metadata": {
        "id": "5_E1KIYjn17C",
        "colab_type": "code",
        "colab": {}
      },
      "source": [
        ""
      ],
      "execution_count": 0,
      "outputs": []
    },
    {
      "cell_type": "markdown",
      "metadata": {
        "id": "c5RtM9hqLZBd",
        "colab_type": "text"
      },
      "source": [
        "> 100번의 학습(epoch) 동안 손실함수 값의 변화를 그려보겠습니다. "
      ]
    },
    {
      "cell_type": "code",
      "metadata": {
        "id": "I6yrMUlhLYfo",
        "colab_type": "code",
        "colab": {}
      },
      "source": [
        ""
      ],
      "execution_count": 0,
      "outputs": []
    },
    {
      "cell_type": "markdown",
      "metadata": {
        "id": "Xp9J5gapEMa1",
        "colab_type": "text"
      },
      "source": [
        "> 모델의 학습이 끝났이느 새로운 데이터에 대한 예측을 수행해 봅니다. \n",
        "\n"
      ]
    },
    {
      "cell_type": "code",
      "metadata": {
        "id": "c6BOtEI1n9jr",
        "colab_type": "code",
        "colab": {}
      },
      "source": [
        ""
      ],
      "execution_count": 0,
      "outputs": []
    },
    {
      "cell_type": "code",
      "metadata": {
        "id": "ktdprfrEoO5r",
        "colab_type": "code",
        "colab": {}
      },
      "source": [
        ""
      ],
      "execution_count": 0,
      "outputs": []
    }
  ]
}