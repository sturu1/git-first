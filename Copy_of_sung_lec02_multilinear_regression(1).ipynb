{
  "nbformat": 4,
  "nbformat_minor": 0,
  "metadata": {
    "colab": {
      "name": "Copy of sung_lec02_multilinear_regression(1).ipynb",
      "provenance": [],
      "collapsed_sections": [],
      "include_colab_link": true
    },
    "kernelspec": {
      "name": "python3",
      "display_name": "Python 3"
    }
  },
  "cells": [
    {
      "cell_type": "markdown",
      "metadata": {
        "id": "view-in-github",
        "colab_type": "text"
      },
      "source": [
        "<a href=\"https://colab.research.google.com/github/sturu1/git-first/blob/master/Copy_of_sung_lec02_multilinear_regression(1).ipynb\" target=\"_parent\"><img src=\"https://colab.research.google.com/assets/colab-badge.svg\" alt=\"Open In Colab\"/></a>"
      ]
    },
    {
      "cell_type": "markdown",
      "metadata": {
        "id": "nltjgGJEpvbe",
        "colab_type": "text"
      },
      "source": [
        "# Mutiple Regression 실습(1)\n",
        "\n",
        "> multiple regression(다중회귀분석)이란것은 앞에서 배운 단순(simple) 회귀분석을 **입력변수가 여러개**일때로 확장한 개념입니다. \n",
        "예를 들면 입력변수가 3개일때는 수학적으로 다음과 같은 표현이 되겠죠. \n",
        "`\n",
        "y=w1*x1 + w2*x2 + w3*x3 +b\n",
        "`\n",
        "\n",
        "> 이번 실습에서는 출석, 중간, 기말성적 이라는 3가지 속성(입력변수 3개)을 이용하여 최종 성적(출력변수 1개)을 예측하는 모델을 구축해 보도록 하겠습니다. "
      ]
    },
    {
      "cell_type": "markdown",
      "metadata": {
        "id": "WGMG9oqxEZYb",
        "colab_type": "text"
      },
      "source": [
        "> 먼저 deep learning 모듈인 keras와 데이터 조작을 위한 모듈인 numpy를 불러옵니다. "
      ]
    },
    {
      "cell_type": "code",
      "metadata": {
        "id": "SGCvbdd_gH9A",
        "colab_type": "code",
        "colab": {}
      },
      "source": [
        "import numpy as np\n",
        "from keras.models import Sequential\n",
        "from keras.layers import Dense\n",
        "from keras.optimizers import RMSprop"
      ],
      "execution_count": 0,
      "outputs": []
    },
    {
      "cell_type": "markdown",
      "metadata": {
        "id": "H62qe0z2_ZZ4",
        "colab_type": "text"
      },
      "source": [
        "> 다음으로 학습을 위한 데이터를 변수에 저장합니다. \n",
        "아래서 보는바와 같이 입력데이터는 5개의 개체(sample)가 있으며, 각 개체별로 3개의 변수(속성)를 갖고 있습니다. 즉, 5명의 학생이 있고, 3개의 속성(출석점수, 중간성적, 기말성적)으로 입력데이터가 구성되어 있습니다. \n",
        "또한 출력데이터는 5개의 개체와 각 개체별 1개의 속성으로 구성되어 있습니다. 즉, 각 학생별 최종성적입니다. "
      ]
    },
    {
      "cell_type": "code",
      "metadata": {
        "id": "hZzT3mmsggk3",
        "colab_type": "code",
        "colab": {}
      },
      "source": [
        "x_data = np.array([[73., 80., 75.],\n",
        "                   [93., 88., 93.],\n",
        "                   [89., 91., 90.],\n",
        "                   [96., 98., 100.],\n",
        "                   [73., 66., 70.]])\n",
        "y_data = np.array([[152.],\n",
        "                   [185.],\n",
        "                   [180.],\n",
        "                   [196.],\n",
        "                   [142.]])"
      ],
      "execution_count": 0,
      "outputs": []
    },
    {
      "cell_type": "markdown",
      "metadata": {
        "id": "ER3E69uLFMR3",
        "colab_type": "text"
      },
      "source": [
        "> 입출력 데이터의 확인을 위해, 각 입출력 변수의 자료 모양을 확인해 봅니다. "
      ]
    },
    {
      "cell_type": "code",
      "metadata": {
        "id": "0wELMyPngjlc",
        "colab_type": "code",
        "colab": {
          "base_uri": "https://localhost:8080/",
          "height": 34
        },
        "outputId": "5f904f27-1025-45da-bcc7-825868e38a7d"
      },
      "source": [
        "x_data.shape, y_data.shape"
      ],
      "execution_count": 16,
      "outputs": [
        {
          "output_type": "execute_result",
          "data": {
            "text/plain": [
              "((5, 3), (5, 1))"
            ]
          },
          "metadata": {
            "tags": []
          },
          "execution_count": 16
        }
      ]
    },
    {
      "cell_type": "markdown",
      "metadata": {
        "id": "b-jOoqpDFgIF",
        "colab_type": "text"
      },
      "source": [
        "> 다음은, keras에 내표된 Sequential() 클래스를 사용하여 모델 instance를  만듭니다. Sequential()은 신경망을 순차적으로 (layer by layer) 구성하기 위하여 사용하는 함수(클래스)로 우리 강의의 대부분의 예제에서 활용합니다. "
      ]
    },
    {
      "cell_type": "code",
      "metadata": {
        "id": "fqQlJrENglaz",
        "colab_type": "code",
        "colab": {}
      },
      "source": [
        "model=Sequential()"
      ],
      "execution_count": 0,
      "outputs": []
    },
    {
      "cell_type": "markdown",
      "metadata": {
        "id": "e7Q__x41GUWe",
        "colab_type": "text"
      },
      "source": [
        "> 생성된 model instance는 현재 비어 있습니다. 여기에 신경망의 층(layers)과 셀(unit)을 추가할 수 있습니다. \n",
        "\n",
        "> 우리는 단순히 **한개의 layer**와 **한개의 unit**으로 구성된 아주 단순한 신경망을 구성하겠습니다. 마치 하나의 세포(뉴런)으로만 구성된 뇌와 같습니다. \n",
        "\n",
        "> 이때, 입력데이터의 각 개체의 모양을 input_shape로 정의하는 것이 필요합니다. input 데이터는 5개의 개체(5명의 학생)로 이루어져 있지만, 한 개체는 3개의 속성을 가지고 있으므로 **inpu_shape는 1D 벡터인 (3,)**로 지정합니다. 또는 input_dim=3 으로 표현하기도 합니다. "
      ]
    },
    {
      "cell_type": "code",
      "metadata": {
        "id": "H2Y-46nXGScA",
        "colab_type": "code",
        "colab": {}
      },
      "source": [
        "model.add(Dense(units=1, input_shape=(3, )))"
      ],
      "execution_count": 0,
      "outputs": []
    },
    {
      "cell_type": "markdown",
      "metadata": {
        "id": "AMg_9DQRh1zX",
        "colab_type": "text"
      },
      "source": [
        "\n",
        "> 참고로 윗 코드는 다음과 같이 표현 가능\n",
        "```\n",
        "model=Sequential()\n",
        "model.add(Dense(units=1,input_dim=3))\n",
        "```"
      ]
    },
    {
      "cell_type": "markdown",
      "metadata": {
        "id": "IqBOsQuXIsp-",
        "colab_type": "text"
      },
      "source": [
        "> **모델을 생성**하고, **네트워크의구조를 정의**했으면 다음으로 **모델을 compile** 해야 합니다. 이때 **손실함수와 optimizer를 정의**해야 합니다. \n",
        "\n",
        "> 이 예제에서는 optimizer로 rmsprop 알고리즘을 사용했습니다. 또한 이 예제가 숫자를 예측하는 회귀분석 이므로 손실함수로 mse(평균제곱오차, Mean Squared Error)를 사용했군요. 참고로, optimizer로 사용할수 있는 알고리즘은 여러가지가 있는데 가장 대표적으로 RMSprop나 SGM, Adam 등이 있습니다. "
      ]
    },
    {
      "cell_type": "code",
      "metadata": {
        "id": "wYKtIStjgpSE",
        "colab_type": "code",
        "colab": {}
      },
      "source": [
        "model.compile(optimizer=RMSprop(lr=0.1), loss='mse')"
      ],
      "execution_count": 0,
      "outputs": []
    },
    {
      "cell_type": "markdown",
      "metadata": {
        "id": "xMYNueGmxR-8",
        "colab_type": "text"
      },
      "source": [
        "> 이제 모델의 구축은 끝났습니다. 지금까지 구축한 모델의 요약정보를 확인해 봅니다. "
      ]
    },
    {
      "cell_type": "code",
      "metadata": {
        "id": "m4fnRu9UxjA7",
        "colab_type": "code",
        "colab": {
          "base_uri": "https://localhost:8080/",
          "height": 187
        },
        "outputId": "bcb3b0f6-fdd6-4c50-c7dd-eb8a71400510"
      },
      "source": [
        "model.summary()"
      ],
      "execution_count": 24,
      "outputs": [
        {
          "output_type": "stream",
          "text": [
            "Model: \"sequential_2\"\n",
            "_________________________________________________________________\n",
            "Layer (type)                 Output Shape              Param #   \n",
            "=================================================================\n",
            "dense_2 (Dense)              (None, 1)                 4         \n",
            "=================================================================\n",
            "Total params: 4\n",
            "Trainable params: 4\n",
            "Non-trainable params: 0\n",
            "_________________________________________________________________\n"
          ],
          "name": "stdout"
        }
      ]
    },
    {
      "cell_type": "markdown",
      "metadata": {
        "id": "J5S-rp3NxmRj",
        "colab_type": "text"
      },
      "source": [
        "> 우리가 구성한 모델은 1개의 층으로 이루어져 있으며 (layer에 dense_1 하나만 존재), 출력 데이터의 형태는 1개의 속성으로 구성됩니다. 또한 총 4개의 파라미터가 있는데 아래 식의 w1, w2, w3와 b가 되겠죠. `y= w1*x1 + w2*x2 + w3*x3 + b`"
      ]
    },
    {
      "cell_type": "markdown",
      "metadata": {
        "id": "3UPISRdOJBmO",
        "colab_type": "text"
      },
      "source": [
        "> 이제 모델을 100회에 걸쳐서 학습시킵니다(epochs = 100). 참고로 주어진 입력데이터를 모두 사용하여 한번 학습시킬때 epochs=1이 됩니다. \n",
        "\n",
        "\n",
        "> 학습 과정에서 mse인 손실 함수의 값이 점차 감소하는 것을 알 수 있습니다. "
      ]
    },
    {
      "cell_type": "code",
      "metadata": {
        "id": "ELb2wcxOIq3O",
        "colab_type": "code",
        "colab": {
          "base_uri": "https://localhost:8080/",
          "height": 1000
        },
        "outputId": "8cf0da64-028c-4a60-b483-f956b0009349"
      },
      "source": [
        "history = model.fit(x_data, y_data, epochs=100)"
      ],
      "execution_count": 26,
      "outputs": [
        {
          "output_type": "stream",
          "text": [
            "Epoch 1/100\n",
            "5/5 [==============================] - 0s 38ms/step - loss: 9864.5879\n",
            "Epoch 2/100\n",
            "5/5 [==============================] - 0s 313us/step - loss: 319.1887\n",
            "Epoch 3/100\n",
            "5/5 [==============================] - 0s 301us/step - loss: 11.7118\n",
            "Epoch 4/100\n",
            "5/5 [==============================] - 0s 299us/step - loss: 4.7910\n",
            "Epoch 5/100\n",
            "5/5 [==============================] - 0s 318us/step - loss: 4.7112\n",
            "Epoch 6/100\n",
            "5/5 [==============================] - 0s 330us/step - loss: 4.7056\n",
            "Epoch 7/100\n",
            "5/5 [==============================] - 0s 563us/step - loss: 4.6998\n",
            "Epoch 8/100\n",
            "5/5 [==============================] - 0s 573us/step - loss: 4.6938\n",
            "Epoch 9/100\n",
            "5/5 [==============================] - 0s 364us/step - loss: 4.6874\n",
            "Epoch 10/100\n",
            "5/5 [==============================] - 0s 335us/step - loss: 4.6807\n",
            "Epoch 11/100\n",
            "5/5 [==============================] - 0s 275us/step - loss: 4.6737\n",
            "Epoch 12/100\n",
            "5/5 [==============================] - 0s 255us/step - loss: 4.6663\n",
            "Epoch 13/100\n",
            "5/5 [==============================] - 0s 273us/step - loss: 4.6585\n",
            "Epoch 14/100\n",
            "5/5 [==============================] - 0s 303us/step - loss: 4.6503\n",
            "Epoch 15/100\n",
            "5/5 [==============================] - 0s 253us/step - loss: 4.6416\n",
            "Epoch 16/100\n",
            "5/5 [==============================] - 0s 250us/step - loss: 4.6325\n",
            "Epoch 17/100\n",
            "5/5 [==============================] - 0s 260us/step - loss: 4.6230\n",
            "Epoch 18/100\n",
            "5/5 [==============================] - 0s 256us/step - loss: 4.6130\n",
            "Epoch 19/100\n",
            "5/5 [==============================] - 0s 288us/step - loss: 4.6024\n",
            "Epoch 20/100\n",
            "5/5 [==============================] - 0s 257us/step - loss: 4.5913\n",
            "Epoch 21/100\n",
            "5/5 [==============================] - 0s 285us/step - loss: 4.5796\n",
            "Epoch 22/100\n",
            "5/5 [==============================] - 0s 378us/step - loss: 4.5673\n",
            "Epoch 23/100\n",
            "5/5 [==============================] - 0s 277us/step - loss: 4.5544\n",
            "Epoch 24/100\n",
            "5/5 [==============================] - 0s 313us/step - loss: 4.5409\n",
            "Epoch 25/100\n",
            "5/5 [==============================] - 0s 306us/step - loss: 4.5266\n",
            "Epoch 26/100\n",
            "5/5 [==============================] - 0s 298us/step - loss: 4.5116\n",
            "Epoch 27/100\n",
            "5/5 [==============================] - 0s 294us/step - loss: 4.4959\n",
            "Epoch 28/100\n",
            "5/5 [==============================] - 0s 273us/step - loss: 4.4794\n",
            "Epoch 29/100\n",
            "5/5 [==============================] - 0s 249us/step - loss: 4.4621\n",
            "Epoch 30/100\n",
            "5/5 [==============================] - 0s 222us/step - loss: 4.4440\n",
            "Epoch 31/100\n",
            "5/5 [==============================] - 0s 226us/step - loss: 4.4257\n",
            "Epoch 32/100\n",
            "5/5 [==============================] - 0s 293us/step - loss: 4.4130\n",
            "Epoch 33/100\n",
            "5/5 [==============================] - 0s 254us/step - loss: 4.4641\n",
            "Epoch 34/100\n",
            "5/5 [==============================] - 0s 248us/step - loss: 5.2654\n",
            "Epoch 35/100\n",
            "5/5 [==============================] - 0s 397us/step - loss: 15.9387\n",
            "Epoch 36/100\n",
            "5/5 [==============================] - 0s 264us/step - loss: 166.1525\n",
            "Epoch 37/100\n",
            "5/5 [==============================] - 0s 238us/step - loss: 1401.7379\n",
            "Epoch 38/100\n",
            "5/5 [==============================] - 0s 244us/step - loss: 1216.5541\n",
            "Epoch 39/100\n",
            "5/5 [==============================] - 0s 250us/step - loss: 353.4232\n",
            "Epoch 40/100\n",
            "5/5 [==============================] - 0s 223us/step - loss: 98.1815\n",
            "Epoch 41/100\n",
            "5/5 [==============================] - 0s 257us/step - loss: 35.0578\n",
            "Epoch 42/100\n",
            "5/5 [==============================] - 0s 251us/step - loss: 17.1608\n",
            "Epoch 43/100\n",
            "5/5 [==============================] - 0s 279us/step - loss: 11.1532\n",
            "Epoch 44/100\n",
            "5/5 [==============================] - 0s 336us/step - loss: 8.9055\n",
            "Epoch 45/100\n",
            "5/5 [==============================] - 0s 265us/step - loss: 8.1623\n",
            "Epoch 46/100\n",
            "5/5 [==============================] - 0s 254us/step - loss: 8.3038\n",
            "Epoch 47/100\n",
            "5/5 [==============================] - 0s 254us/step - loss: 9.3788\n",
            "Epoch 48/100\n",
            "5/5 [==============================] - 0s 253us/step - loss: 12.0897\n",
            "Epoch 49/100\n",
            "5/5 [==============================] - 0s 262us/step - loss: 18.5432\n",
            "Epoch 50/100\n",
            "5/5 [==============================] - 0s 276us/step - loss: 34.7679\n",
            "Epoch 51/100\n",
            "5/5 [==============================] - 0s 320us/step - loss: 78.0253\n",
            "Epoch 52/100\n",
            "5/5 [==============================] - 0s 265us/step - loss: 190.8579\n",
            "Epoch 53/100\n",
            "5/5 [==============================] - 0s 249us/step - loss: 414.6027\n",
            "Epoch 54/100\n",
            "5/5 [==============================] - 0s 273us/step - loss: 589.4831\n",
            "Epoch 55/100\n",
            "5/5 [==============================] - 0s 269us/step - loss: 485.8694\n",
            "Epoch 56/100\n",
            "5/5 [==============================] - 0s 259us/step - loss: 288.4139\n",
            "Epoch 57/100\n",
            "5/5 [==============================] - 0s 237us/step - loss: 159.4657\n",
            "Epoch 58/100\n",
            "5/5 [==============================] - 0s 243us/step - loss: 95.1025\n",
            "Epoch 59/100\n",
            "5/5 [==============================] - 0s 241us/step - loss: 65.0267\n",
            "Epoch 60/100\n",
            "5/5 [==============================] - 0s 245us/step - loss: 51.8298\n",
            "Epoch 61/100\n",
            "5/5 [==============================] - 0s 240us/step - loss: 48.0395\n",
            "Epoch 62/100\n",
            "5/5 [==============================] - 0s 265us/step - loss: 51.3482\n",
            "Epoch 63/100\n",
            "5/5 [==============================] - 0s 274us/step - loss: 62.6161\n",
            "Epoch 64/100\n",
            "5/5 [==============================] - 0s 267us/step - loss: 85.5980\n",
            "Epoch 65/100\n",
            "5/5 [==============================] - 0s 270us/step - loss: 126.8299\n",
            "Epoch 66/100\n",
            "5/5 [==============================] - 0s 225us/step - loss: 191.7878\n",
            "Epoch 67/100\n",
            "5/5 [==============================] - 0s 227us/step - loss: 270.7541\n",
            "Epoch 68/100\n",
            "5/5 [==============================] - 0s 288us/step - loss: 324.9648\n",
            "Epoch 69/100\n",
            "5/5 [==============================] - 0s 251us/step - loss: 317.5640\n",
            "Epoch 70/100\n",
            "5/5 [==============================] - 0s 266us/step - loss: 262.3749\n",
            "Epoch 71/100\n",
            "5/5 [==============================] - 0s 273us/step - loss: 199.3276\n",
            "Epoch 72/100\n",
            "5/5 [==============================] - 0s 257us/step - loss: 150.8315\n",
            "Epoch 73/100\n",
            "5/5 [==============================] - 0s 251us/step - loss: 120.0190\n",
            "Epoch 74/100\n",
            "5/5 [==============================] - 0s 264us/step - loss: 103.3973\n",
            "Epoch 75/100\n",
            "5/5 [==============================] - 0s 236us/step - loss: 97.5252\n",
            "Epoch 76/100\n",
            "5/5 [==============================] - 0s 264us/step - loss: 100.6076\n",
            "Epoch 77/100\n",
            "5/5 [==============================] - 0s 251us/step - loss: 112.3316\n",
            "Epoch 78/100\n",
            "5/5 [==============================] - 0s 255us/step - loss: 133.0780\n",
            "Epoch 79/100\n",
            "5/5 [==============================] - 0s 368us/step - loss: 162.3283\n",
            "Epoch 80/100\n",
            "5/5 [==============================] - 0s 312us/step - loss: 196.0937\n",
            "Epoch 81/100\n",
            "5/5 [==============================] - 0s 369us/step - loss: 225.1984\n",
            "Epoch 82/100\n",
            "5/5 [==============================] - 0s 245us/step - loss: 238.6375\n",
            "Epoch 83/100\n",
            "5/5 [==============================] - 0s 249us/step - loss: 231.8111\n",
            "Epoch 84/100\n",
            "5/5 [==============================] - 0s 288us/step - loss: 210.2181\n",
            "Epoch 85/100\n",
            "5/5 [==============================] - 0s 287us/step - loss: 183.8841\n",
            "Epoch 86/100\n",
            "5/5 [==============================] - 0s 250us/step - loss: 160.5153\n",
            "Epoch 87/100\n",
            "5/5 [==============================] - 0s 257us/step - loss: 143.6284\n",
            "Epoch 88/100\n",
            "5/5 [==============================] - 0s 228us/step - loss: 133.9763\n",
            "Epoch 89/100\n",
            "5/5 [==============================] - 0s 246us/step - loss: 131.2207\n",
            "Epoch 90/100\n",
            "5/5 [==============================] - 0s 241us/step - loss: 134.7854\n",
            "Epoch 91/100\n",
            "5/5 [==============================] - 0s 218us/step - loss: 143.9798\n",
            "Epoch 92/100\n",
            "5/5 [==============================] - 0s 246us/step - loss: 157.6554\n",
            "Epoch 93/100\n",
            "5/5 [==============================] - 0s 359us/step - loss: 173.6731\n",
            "Epoch 94/100\n",
            "5/5 [==============================] - 0s 251us/step - loss: 188.6796\n",
            "Epoch 95/100\n",
            "5/5 [==============================] - 0s 249us/step - loss: 198.8218\n",
            "Epoch 96/100\n",
            "5/5 [==============================] - 0s 269us/step - loss: 201.4188\n",
            "Epoch 97/100\n",
            "5/5 [==============================] - 0s 289us/step - loss: 196.4031\n",
            "Epoch 98/100\n",
            "5/5 [==============================] - 0s 266us/step - loss: 186.1870\n",
            "Epoch 99/100\n",
            "5/5 [==============================] - 0s 225us/step - loss: 174.1652\n",
            "Epoch 100/100\n",
            "5/5 [==============================] - 0s 255us/step - loss: 163.2400\n"
          ],
          "name": "stdout"
        }
      ]
    },
    {
      "cell_type": "markdown",
      "metadata": {
        "id": "__5u1pshJrwt",
        "colab_type": "text"
      },
      "source": [
        "> model의 weight 값을 아래와 같이 확인할 수 있습니다. > 즉, `w1`, `w2`, `w3` 값과, `b` 값에 해당합니다. "
      ]
    },
    {
      "cell_type": "code",
      "metadata": {
        "id": "-k9GZhjtJn-s",
        "colab_type": "code",
        "colab": {
          "base_uri": "https://localhost:8080/",
          "height": 102
        },
        "outputId": "6fb57bb2-b425-4eec-e291-54d01ca48ff7"
      },
      "source": [
        "model.weights"
      ],
      "execution_count": 27,
      "outputs": [
        {
          "output_type": "execute_result",
          "data": {
            "text/plain": [
              "[<tf.Variable 'dense_2/kernel:0' shape=(3, 1) dtype=float32, numpy=\n",
              " array([[1.4842305 ],\n",
              "        [0.17180961],\n",
              "        [0.21208096]], dtype=float32)>,\n",
              " <tf.Variable 'dense_2/bias:0' shape=(1,) dtype=float32, numpy=array([0.28987008], dtype=float32)>]"
            ]
          },
          "metadata": {
            "tags": []
          },
          "execution_count": 27
        }
      ]
    },
    {
      "cell_type": "markdown",
      "metadata": {
        "id": "tDZdzZOXvDaz",
        "colab_type": "text"
      },
      "source": [
        "> 학습이 진행되는 동안 손실값은 history.history라는 변수에 dictionary 형태로 저장되어 있습니다. 따라서 여러분은 다음과 같이 100번의 반복동안 손실함수의 값(mse)을 확인할 수 있습니다. "
      ]
    },
    {
      "cell_type": "code",
      "metadata": {
        "id": "Th3v7_BCKdqo",
        "colab_type": "code",
        "colab": {}
      },
      "source": [
        "import matplotlib.pyplot as plt"
      ],
      "execution_count": 0,
      "outputs": []
    },
    {
      "cell_type": "markdown",
      "metadata": {
        "id": "N3AfWea2J6D2",
        "colab_type": "text"
      },
      "source": [
        "> 다음으로 학습이 진행되면서 (epochs이 진행되면서) 손실값의 변화를 그래프로 그려보겠습니다. \n",
        "\n",
        "> 그래프를 그리는 도구인 matplotlib 모듈을 사용하겠습니다. \n",
        "\n"
      ]
    },
    {
      "cell_type": "code",
      "metadata": {
        "id": "QsnQLVcmKEFe",
        "colab_type": "code",
        "colab": {
          "base_uri": "https://localhost:8080/",
          "height": 295
        },
        "outputId": "71838185-ccf5-4052-cac2-630107cb88f0"
      },
      "source": [
        "plt.plot(history.history[\"loss\"])\n",
        "plt.title(\"Model loss\")\n",
        "plt.ylabel('Loss')\n",
        "plt.xlabel('Epoch')\n",
        "plt.show()"
      ],
      "execution_count": 31,
      "outputs": [
        {
          "output_type": "display_data",
          "data": {
            "image/png": "[encoded data removed]",
            "text/plain": [
              "<Figure size 432x288 with 1 Axes>"
            ]
          },
          "metadata": {
            "tags": [],
            "needs_background": "light"
          }
        }
      ]
    },
    {
      "cell_type": "markdown",
      "metadata": {
        "id": "Pc64M8zTJDM-",
        "colab_type": "text"
      },
      "source": [
        "> 모델의 학습이 끝났으니, 새로운 데이터에 대한 예측을 수행해 볼까요? "
      ]
    },
    {
      "cell_type": "code",
      "metadata": {
        "id": "-sP9hnwkgr47",
        "colab_type": "code",
        "colab": {
          "base_uri": "https://localhost:8080/",
          "height": 51
        },
        "outputId": "fc53e98d-e277-45b1-c51c-8a3bf38d5076"
      },
      "source": [
        "model.predict(np.array([[95,88,60],[67,99,70]]))"
      ],
      "execution_count": 35,
      "outputs": [
        {
          "output_type": "execute_result",
          "data": {
            "text/plain": [
              "array([[169.13586],\n",
              "       [131.58813]], dtype=float32)"
            ]
          },
          "metadata": {
            "tags": []
          },
          "execution_count": 35
        }
      ]
    },
    {
      "cell_type": "code",
      "metadata": {
        "id": "-Y0lJTRyI8T3",
        "colab_type": "code",
        "colab": {}
      },
      "source": [
        ""
      ],
      "execution_count": 0,
      "outputs": []
    }
  ]
}