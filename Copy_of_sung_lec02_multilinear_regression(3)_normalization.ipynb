{
  "nbformat": 4,
  "nbformat_minor": 0,
  "metadata": {
    "colab": {
      "name": "Copy of sung_lec02_multilinear_regression(3)_normalization.ipynb",
      "provenance": [],
      "collapsed_sections": [],
      "include_colab_link": true
    },
    "kernelspec": {
      "name": "python3",
      "display_name": "Python 3"
    }
  },
  "cells": [
    {
      "cell_type": "markdown",
      "metadata": {
        "id": "view-in-github",
        "colab_type": "text"
      },
      "source": [
        "<a href=\"https://colab.research.google.com/github/sturu1/git-first/blob/master/Copy_of_sung_lec02_multilinear_regression(3)_normalization.ipynb\" target=\"_parent\"><img src=\"https://colab.research.google.com/assets/colab-badge.svg\" alt=\"Open In Colab\"/></a>"
      ]
    },
    {
      "cell_type": "markdown",
      "metadata": {
        "id": "3vJCTONF6N92",
        "colab_type": "text"
      },
      "source": [
        "# 데이터 정규화\n",
        "\n",
        "> 본 실습에서는 데이터 정규화 (normalization)에 대해서 살펴보겠습니다. \n",
        "\n",
        "> 딥러닝을 포함한 대부분의 머신러닝에서는 입력데이터의 정규화가 필요합니다. 입력변수들이 비슷한 값의 범위를 갖는다면 정규화가 필요 없을 수도 있지만, 변수별로 값의 범위(scale)이 너무 상이하면 학습이 잘 진행되지 않기 때문입니다. \n",
        "\n",
        "> 특히, 딥러닝에서는 입력변수의 값을 [0,1] 사이의 값으로 바꿔주는 min-max 정규화나 통계에서 z분포를 사용하는 표준화를 많이 사용합니다. 우리는 이번 예제를 통해서 min-max 정규화에 대해 살펴보겠습니다. "
      ]
    },
    {
      "cell_type": "markdown",
      "metadata": {
        "id": "fsu0guPc_jbW",
        "colab_type": "text"
      },
      "source": [
        "> 먼저, 정규화를 진행하지 않고, 다음과 같은 데이터에 대한 학습을 진행해 보겠습니다."
      ]
    },
    {
      "cell_type": "code",
      "metadata": {
        "id": "-OCRuyTp7CXz",
        "colab_type": "code",
        "colab": {}
      },
      "source": [
        "import numpy as np"
      ],
      "execution_count": 0,
      "outputs": []
    },
    {
      "cell_type": "code",
      "metadata": {
        "id": "7VZmCShq63j0",
        "colab_type": "code",
        "colab": {}
      },
      "source": [
        "xy = np.array([[828.659973, 833.450012, 908100, 828.349976, 831.659973],\n",
        "               [823.02002, 828.070007, 1828100, 821.655029, 828.070007],\n",
        "               [819.929993, 824.400024, 1438100, 818.97998, 824.159973],\n",
        "               [816, 820.958984, 1008100, 815.48999, 819.23999],\n",
        "               [819.359985, 823, 1188100, 818.469971, 818.97998],\n",
        "               [819, 823, 1198100, 816, 820.450012],\n",
        "               [811.700012, 815.25, 1098100, 809.780029, 813.669983],\n",
        "               [809.51001, 816.659973, 1398100, 804.539978, 809.559998]])"
      ],
      "execution_count": 0,
      "outputs": []
    },
    {
      "cell_type": "code",
      "metadata": {
        "id": "6ZLQR4rC7A3d",
        "colab_type": "code",
        "colab": {
          "base_uri": "https://localhost:8080/",
          "height": 34
        },
        "outputId": "d24568c0-204e-4dd9-8d72-86e6436a39ed"
      },
      "source": [
        "xy.shape"
      ],
      "execution_count": 4,
      "outputs": [
        {
          "output_type": "execute_result",
          "data": {
            "text/plain": [
              "(8, 5)"
            ]
          },
          "metadata": {
            "tags": []
          },
          "execution_count": 4
        }
      ]
    },
    {
      "cell_type": "markdown",
      "metadata": {
        "id": "CvClBJwo_5GF",
        "colab_type": "text"
      },
      "source": [
        "> 데이터를 살펴보면, 3번째 열의 값이 다른 열의 값보다 너무 큰 값을 보임을 알 수 있습니다(약 2000배). 이렇듯 각 변수의 값의 범위가 큰 차이가 날때, 학습이 어떻게 진행되는지 확인해 보겠습니다. "
      ]
    },
    {
      "cell_type": "markdown",
      "metadata": {
        "id": "v5k_4JxD_tnk",
        "colab_type": "text"
      },
      "source": [
        "> 먼저 데이터를 입력 및 출력 데이터로 분활합니다. "
      ]
    },
    {
      "cell_type": "code",
      "metadata": {
        "id": "vQKp_i5Q7Scj",
        "colab_type": "code",
        "colab": {}
      },
      "source": [
        "x_data = xy[:, :-1]\n",
        "y_data = xy[:, [-1]]"
      ],
      "execution_count": 0,
      "outputs": []
    },
    {
      "cell_type": "code",
      "metadata": {
        "id": "jh8D1Q-AUbMR",
        "colab_type": "code",
        "colab": {
          "base_uri": "https://localhost:8080/",
          "height": 34
        },
        "outputId": "4659fc55-190b-491f-a773-74b42bfc14d0"
      },
      "source": [
        "x_data.shape, y_data.shape"
      ],
      "execution_count": 6,
      "outputs": [
        {
          "output_type": "execute_result",
          "data": {
            "text/plain": [
              "((8, 4), (8, 1))"
            ]
          },
          "metadata": {
            "tags": []
          },
          "execution_count": 6
        }
      ]
    },
    {
      "cell_type": "markdown",
      "metadata": {
        "id": "_saMo4-1AZbN",
        "colab_type": "text"
      },
      "source": [
        "필요한 모듈을 불러와, 모델을 생성하겠습니다. "
      ]
    },
    {
      "cell_type": "code",
      "metadata": {
        "id": "rwqv1PvD7f_j",
        "colab_type": "code",
        "colab": {}
      },
      "source": [
        "from keras.models import Sequential\n",
        "from keras.layers import Dense\n",
        "from keras.optimizers import SGD"
      ],
      "execution_count": 0,
      "outputs": []
    },
    {
      "cell_type": "code",
      "metadata": {
        "id": "yNefs8tzUwrS",
        "colab_type": "code",
        "colab": {}
      },
      "source": [
        "model1 = Sequential()\n",
        "model1.add(Dense(units=1, input_shape=(4,1)))\n",
        "model1.compile(optimizer=SGD(lr=10.01), loss='mse')"
      ],
      "execution_count": 0,
      "outputs": []
    },
    {
      "cell_type": "code",
      "metadata": {
        "id": "8uR17rwAVY2i",
        "colab_type": "code",
        "colab": {
          "base_uri": "https://localhost:8080/",
          "height": 187
        },
        "outputId": "cefe284c-c0d5-4b7d-e2e0-3c1f208ec29c"
      },
      "source": [
        "model1.summary()"
      ],
      "execution_count": 12,
      "outputs": [
        {
          "output_type": "stream",
          "text": [
            "Model: \"sequential_1\"\n",
            "_________________________________________________________________\n",
            "Layer (type)                 Output Shape              Param #   \n",
            "=================================================================\n",
            "dense_1 (Dense)              (None, 4, 1)              2         \n",
            "=================================================================\n",
            "Total params: 2\n",
            "Trainable params: 2\n",
            "Non-trainable params: 0\n",
            "_________________________________________________________________\n"
          ],
          "name": "stdout"
        }
      ]
    },
    {
      "cell_type": "markdown",
      "metadata": {
        "id": "2lg8yy0JAgPF",
        "colab_type": "text"
      },
      "source": [
        "1000번의 epoch을 거쳐 학습을 진행해 보겠습니다. "
      ]
    },
    {
      "cell_type": "code",
      "metadata": {
        "id": "aRSP0rnZ8ZLD",
        "colab_type": "code",
        "colab": {
          "base_uri": "https://localhost:8080/",
          "height": 303
        },
        "outputId": "90626b4f-6fcb-4691-93c7-c23a0fc6c98a"
      },
      "source": [
        "history1 = model1.fit(x_data, y_data, epoch=1000)"
      ],
      "execution_count": 13,
      "outputs": [
        {
          "output_type": "error",
          "ename": "TypeError",
          "evalue": "ignored",
          "traceback": [
            "\u001b[0;31m---------------------------------------------------------------------------\u001b[0m",
            "\u001b[0;31mTypeError\u001b[0m                                 Traceback (most recent call last)",
            "\u001b[0;32m<ipython-input-13-b163967692d9>\u001b[0m in \u001b[0;36m<module>\u001b[0;34m()\u001b[0m\n\u001b[0;32m----> 1\u001b[0;31m \u001b[0mhistory1\u001b[0m \u001b[0;34m=\u001b[0m \u001b[0mmodel1\u001b[0m\u001b[0;34m.\u001b[0m\u001b[0mfit\u001b[0m\u001b[0;34m(\u001b[0m\u001b[0mx_data\u001b[0m\u001b[0;34m,\u001b[0m \u001b[0my_data\u001b[0m\u001b[0;34m,\u001b[0m \u001b[0mepoch\u001b[0m\u001b[0;34m=\u001b[0m\u001b[0;36m1000\u001b[0m\u001b[0;34m)\u001b[0m\u001b[0;34m\u001b[0m\u001b[0;34m\u001b[0m\u001b[0m\n\u001b[0m",
            "\u001b[0;32m/usr/local/lib/python3.6/dist-packages/keras/engine/training.py\u001b[0m in \u001b[0;36mfit\u001b[0;34m(self, x, y, batch_size, epochs, verbose, callbacks, validation_split, validation_data, shuffle, class_weight, sample_weight, initial_epoch, steps_per_epoch, validation_steps, validation_freq, max_queue_size, workers, use_multiprocessing, **kwargs)\u001b[0m\n\u001b[1;32m   1116\u001b[0m             \u001b[0mepochs\u001b[0m \u001b[0;34m=\u001b[0m \u001b[0mkwargs\u001b[0m\u001b[0;34m.\u001b[0m\u001b[0mpop\u001b[0m\u001b[0;34m(\u001b[0m\u001b[0;34m'nb_epoch'\u001b[0m\u001b[0;34m)\u001b[0m\u001b[0;34m\u001b[0m\u001b[0;34m\u001b[0m\u001b[0m\n\u001b[1;32m   1117\u001b[0m         \u001b[0;32mif\u001b[0m \u001b[0mkwargs\u001b[0m\u001b[0;34m:\u001b[0m\u001b[0;34m\u001b[0m\u001b[0;34m\u001b[0m\u001b[0m\n\u001b[0;32m-> 1118\u001b[0;31m             \u001b[0;32mraise\u001b[0m \u001b[0mTypeError\u001b[0m\u001b[0;34m(\u001b[0m\u001b[0;34m'Unrecognized keyword arguments: '\u001b[0m \u001b[0;34m+\u001b[0m \u001b[0mstr\u001b[0m\u001b[0;34m(\u001b[0m\u001b[0mkwargs\u001b[0m\u001b[0;34m)\u001b[0m\u001b[0;34m)\u001b[0m\u001b[0;34m\u001b[0m\u001b[0;34m\u001b[0m\u001b[0m\n\u001b[0m\u001b[1;32m   1119\u001b[0m \u001b[0;34m\u001b[0m\u001b[0m\n\u001b[1;32m   1120\u001b[0m         \u001b[0;32mif\u001b[0m \u001b[0mx\u001b[0m \u001b[0;32mis\u001b[0m \u001b[0;32mNone\u001b[0m \u001b[0;32mand\u001b[0m \u001b[0my\u001b[0m \u001b[0;32mis\u001b[0m \u001b[0;32mNone\u001b[0m \u001b[0;32mand\u001b[0m \u001b[0msteps_per_epoch\u001b[0m \u001b[0;32mis\u001b[0m \u001b[0;32mNone\u001b[0m\u001b[0;34m:\u001b[0m\u001b[0;34m\u001b[0m\u001b[0;34m\u001b[0m\u001b[0m\n",
            "\u001b[0;31mTypeError\u001b[0m: Unrecognized keyword arguments: {'epoch': 1000}"
          ]
        }
      ]
    },
    {
      "cell_type": "markdown",
      "metadata": {
        "id": "gKRTISgVA2tW",
        "colab_type": "text"
      },
      "source": [
        "> 학습이 진행되지 않아 손실함수의 값이 `nan` 값이 나오는 것을 알 수 있습니다. \n",
        "\n",
        "> 다음은 각 입력변수의 값의 범위를 [0,1] 사이로 변환해주는 정규화 작업을 수행하겠습니다. 이때 머신러닝에서 많이 사용하는 skitlearn 모듈의 MinMaxScaler라는 클래스를 사용하겠습니다. "
      ]
    },
    {
      "cell_type": "code",
      "metadata": {
        "id": "A85tLux-8hPk",
        "colab_type": "code",
        "colab": {}
      },
      "source": [
        ""
      ],
      "execution_count": 0,
      "outputs": []
    },
    {
      "cell_type": "markdown",
      "metadata": {
        "id": "bopsWU-qBQbd",
        "colab_type": "text"
      },
      "source": [
        "> `MinMaxScaler` 클래스를 이용하여 `scaler`라는 instance를 생성하였습니다. 이 instance를 통하여 데이터를 [0,1] 사이의 값으로 정규화 시킬 수 있습니다. "
      ]
    },
    {
      "cell_type": "code",
      "metadata": {
        "id": "M4W1YMet8_Nd",
        "colab_type": "code",
        "colab": {}
      },
      "source": [
        ""
      ],
      "execution_count": 0,
      "outputs": []
    },
    {
      "cell_type": "markdown",
      "metadata": {
        "id": "ik6MEQzhBjtc",
        "colab_type": "text"
      },
      "source": [
        "> 이제 `scaler` 클래스의 맴버함수인 `fit_transform` 함수를 이용하여 우리의 입력데이터를 정규화 시켜 보겠습니다. "
      ]
    },
    {
      "cell_type": "code",
      "metadata": {
        "id": "EdRJ8rlv9K6T",
        "colab_type": "code",
        "colab": {}
      },
      "source": [
        ""
      ],
      "execution_count": 0,
      "outputs": []
    },
    {
      "cell_type": "markdown",
      "metadata": {
        "id": "8uU42QaiB02U",
        "colab_type": "text"
      },
      "source": [
        "> 이제 우리의 입력데이터를 확인해 볼까요? "
      ]
    },
    {
      "cell_type": "code",
      "metadata": {
        "id": "pUpLTBbN9Tjz",
        "colab_type": "code",
        "colab": {}
      },
      "source": [
        ""
      ],
      "execution_count": 0,
      "outputs": []
    },
    {
      "cell_type": "markdown",
      "metadata": {
        "id": "kz9g-5KzB7Dl",
        "colab_type": "text"
      },
      "source": [
        "> 각 변수(속성)별로 최소 0 에서 최대 1까지의 값을 갖는 것을 알 수 있습니다. \n",
        "\n",
        "> 다음으로 변환된 입력변수를 기반으로한 새로운 모델을 생성해 보겠습니다. "
      ]
    },
    {
      "cell_type": "code",
      "metadata": {
        "id": "3O5mSoKR9UXE",
        "colab_type": "code",
        "colab": {}
      },
      "source": [
        ""
      ],
      "execution_count": 0,
      "outputs": []
    },
    {
      "cell_type": "markdown",
      "metadata": {
        "id": "wfV9P-vxC6MV",
        "colab_type": "text"
      },
      "source": [
        "> 학습이 잘 진행되는 것을 알 수 있습니다. \n",
        "\n",
        "> 학습이 끝난 이 모델이(model_2) x_data에 대해 어떤 출력값을 예측해 냈는지 확인해 보겠습니다. "
      ]
    },
    {
      "cell_type": "code",
      "metadata": {
        "id": "hiVRt1g7-EcU",
        "colab_type": "code",
        "colab": {}
      },
      "source": [
        ""
      ],
      "execution_count": 0,
      "outputs": []
    },
    {
      "cell_type": "markdown",
      "metadata": {
        "id": "WXMZdZuJFFdG",
        "colab_type": "text"
      },
      "source": [
        "참고로 추가적인 입력데이터에 대해 모델의 성능을 테스트해보고자 한다면, \n",
        "추가 입력데이터를 scaler instance를 이용하여 [0,1]사이의 값으로 변환해 주어야 합니다. 예를 들어 입력 데이터가 `[810, 830, 100000,783]` 인 경우 다음과 같이 하면 됩니다. "
      ]
    },
    {
      "cell_type": "code",
      "metadata": {
        "id": "BEn5pucjCYr2",
        "colab_type": "code",
        "colab": {}
      },
      "source": [
        ""
      ],
      "execution_count": 0,
      "outputs": []
    }
  ]
}